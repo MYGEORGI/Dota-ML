{
 "cells": [
  {
   "cell_type": "code",
   "execution_count": 18,
   "metadata": {
    "collapsed": true,
    "pycharm": {
     "is_executing": false
    }
   },
   "outputs": [],
   "source": [
    "import numpy as np\n",
    "import pandas as pd\n",
    "from scipy._lib.six import xrange\n",
    "from sklearn.metrics import roc_auc_score\n",
    "from sklearn.model_selection import KFold\n",
    "from sklearn.preprocessing import StandardScaler\n",
    "from sklearn.linear_model import LogisticRegression\n",
    "from datetime import datetime"
   ]
  },
  {
   "cell_type": "code",
   "execution_count": 19,
   "outputs": [],
   "source": [
    "na_time = 0\n",
    "kfold_splits = 5\n",
    "\n",
    "# different Cs for regularisation\n",
    "Cs = [1000, 100, 10, 1, 0.1, 0.01, 0.001]\n",
    "\n",
    "# files\n",
    "features_csv = \"path/to/features.csv\"\n",
    "features_test_csv = \"path/to/features_test.csv\"\n",
    "heroes_dict_csv = \"path/to/data/dictionaries/heroes.csv\"\n",
    "ans_csv = \"path/to/ans.csv\""
   ],
   "metadata": {
    "collapsed": false,
    "pycharm": {
     "name": "#%%\n",
     "is_executing": false
    }
   }
  },
  {
   "cell_type": "code",
   "execution_count": 20,
   "outputs": [],
   "source": [
    "features = pd.read_csv(features_csv, index_col=\"match_id\")"
   ],
   "metadata": {
    "collapsed": false,
    "pycharm": {
     "name": "#%%\n",
     "is_executing": false
    }
   }
  },
  {
   "cell_type": "code",
   "execution_count": 21,
   "outputs": [],
   "source": [
    "def preprocessing (features, drop=False):\n",
    "    hero_dict = pd.read_csv(heroes_dict_csv, index_col=\"id\")\n",
    "    \n",
    "    # bag-of-words\n",
    "    n_heroes = np.max(features.filter(regex=\".*_hero\").values)+1\n",
    "    X_pick_dict = {}\n",
    "    for i, match_id in enumerate(features.index):\n",
    "        X_pick_dict[match_id] = np.zeros(n_heroes)\n",
    "        for p in xrange(5):\n",
    "            X_pick_dict[match_id][features.loc[match_id, 'r%d_hero' % (p+1)]] = 1\n",
    "            X_pick_dict[match_id][features.loc[match_id, 'd%d_hero' % (p+1)]] = -1\n",
    "    \n",
    "    \n",
    "    X_pick_df = pd.DataFrame(X_pick_dict)\n",
    "    \n",
    "    # replace hero numbers with names\n",
    "    X_pick_df = hero_dict.join(X_pick_df).set_index('name').drop(columns=['localized_name']).dropna()\n",
    "    \n",
    "    X_pick_df = X_pick_df.transpose()\n",
    "    \n",
    "    # drop in train\n",
    "    X = features\n",
    "    if drop:\n",
    "        X = features.drop(columns=features.columns[-6:])\n",
    "\n",
    "    # which columns have gaps?\n",
    "    counts = X.count()\n",
    "    total = len(X.index)\n",
    "    with_gaps = []\n",
    "    for i, count in enumerate(counts):\n",
    "        if count < total:\n",
    "            with_gaps.append(X.columns[i])\n",
    "            \n",
    "    # fill gaps\n",
    "    X[with_gaps] = X[with_gaps].fillna(na_time)\n",
    "    \n",
    "    # drop rN_hero, dN_hero columns\n",
    "    todrop = list(X.filter(regex=\"[rd][0-9]_hero\").columns)\n",
    "    todrop.append('lobby_type')\n",
    "    X = X.drop(todrop, axis=1)\n",
    "    X = pd.concat([X, X_pick_df], axis=1)\n",
    "    \n",
    "    # scale \n",
    "    scaler = StandardScaler()\n",
    "    scaler.fit(X)\n",
    "    X_0 = X\n",
    "    X = scaler.transform(X)\n",
    "    \n",
    "    # extract target\n",
    "    if \"radiant_win\" in features.columns:\n",
    "        y = features[\"radiant_win\"].values\n",
    "    else:\n",
    "        y = None\n",
    "    return X, y, X_0"
   ],
   "metadata": {
    "collapsed": false,
    "pycharm": {
     "name": "#%%\n",
     "is_executing": false
    }
   }
  },
  {
   "cell_type": "code",
   "execution_count": 22,
   "outputs": [],
   "source": [
    "X, y, X_0 = preprocessing(features, True)"
   ],
   "metadata": {
    "collapsed": false,
    "pycharm": {
     "name": "#%%\n",
     "is_executing": false
    }
   }
  },
  {
   "cell_type": "code",
   "execution_count": 23,
   "outputs": [],
   "source": [
    "# learning\n",
    "\n",
    "kf = KFold(n_splits=kfold_splits, shuffle=True)\n",
    "qualities = {}\n",
    "times = {}\n",
    "pred_times = {}\n",
    "\n",
    "# for each C learn and measure time\n",
    "for C in Cs:\n",
    "    quality = []\n",
    "    pred_time = []\n",
    "    start_time = datetime.now()\n",
    "    for train_index, test_index in kf.split(X):\n",
    "        X_train, X_test = X[train_index], X[test_index]\n",
    "        y_train, y_test = y[train_index], y[test_index]\n",
    "        clf = LogisticRegression(C=C, solver='lbfgs')\n",
    "        clf.fit(X_train, y_train)\n",
    "        pred_start_time = datetime.now()\n",
    "        y_pred = clf.predict_proba(X_train)[:,1]\n",
    "        pred_time.append(datetime.now() - pred_start_time)\n",
    "        quality.append(roc_auc_score(y_train, y_pred))\n",
    "    pred_times[C] = np.mean(pred_time)\n",
    "    times[C] = datetime.now() - start_time\n",
    "    qualities[C] = np.mean(quality)"
   ],
   "metadata": {
    "collapsed": false,
    "pycharm": {
     "name": "#%%\n",
     "is_executing": false
    }
   }
  },
  {
   "cell_type": "code",
   "execution_count": 24,
   "outputs": [
    {
     "name": "stdout",
     "text": [
      "qualities:\n{0.001: 0.7542787181434518}\n\nlearn_times:\n12 secs\n\npred_times:\n48660 microsecs\n"
     ],
     "output_type": "stream"
    }
   ],
   "source": [
    "print(\"qualities:\")\n",
    "print(qualities)\n",
    "\n",
    "print(\"\\nlearn_times:\")\n",
    "for time in times.values():\n",
    "    print(time.seconds, \"secs\")\n",
    "\n",
    "print(\"\\npred_times:\")\n",
    "for time in pred_times.values():\n",
    "    print(time.microseconds, \"microsecs\")"
   ],
   "metadata": {
    "collapsed": false,
    "pycharm": {
     "name": "#%%\n",
     "is_executing": false
    }
   }
  },
  {
   "cell_type": "code",
   "execution_count": 25,
   "outputs": [
    {
     "data": {
      "text/plain": "[('queenofpain', -0.1885943330711994),\n ('r4_lh', 0.18791544305223537),\n ('r2_lh', 0.1872335207330813),\n ('r3_lh', 0.18108815643604903),\n ('d2_gold', -0.17953918104599897),\n ('r1_gold', 0.1779026141211268),\n ('r1_lh', 0.17500905935665007),\n ('r5_lh', 0.17398569658910987),\n ('r2_gold', 0.17214619652188204),\n ('d5_lh', -0.17131473938113131),\n ('d2_lh', -0.16905229568243832),\n ('d1_lh', -0.16779171381830982),\n ('d1_gold', -0.16702019777561813),\n ('d4_lh', -0.1658009359389914),\n ('d3_lh', -0.16540491617081188),\n ('r5_gold', 0.1598549842404835),\n ('d4_gold', -0.15984756187631785),\n ('d5_gold', -0.15510641249464474),\n ('r3_gold', 0.1497645593008116),\n ('r4_gold', 0.14711874371469338),\n ('spectre', 0.14524817276358293),\n ('d3_gold', -0.14332948207781304),\n ('lina', -0.13464541889171436),\n ('axe', -0.12228908622791898),\n ('earthshaker', 0.11814078779625331),\n ('d3_xp', -0.1099468540796209),\n ('omniknight', 0.10839885705628596),\n ('spirit_breaker', 0.10491080455778083),\n ('d5_xp', -0.10223649794329373),\n ('viper', -0.10140556104017431),\n ('d2_xp', -0.09698408631959543),\n ('windrunner', -0.09601580587528981),\n ('skeleton_king', 0.09358999067559898),\n ('r4_xp', 0.08877633601880201),\n ('r3_xp', 0.0860630764203396),\n ('d1_xp', -0.08591089843283224),\n ('puck', -0.08528965351103132),\n ('doom_bringer', 0.07765233589620595),\n ('r5_xp', 0.07671514443479166),\n ('zuus', 0.07632135977763449),\n ('slardar', 0.07595481464406195),\n ('d4_xp', -0.07564944293014968),\n ('r1_xp', 0.07547289688533355),\n ('lion', -0.07192753109360663),\n ('r2_xp', 0.07013968668593785),\n ('skywrath_mage', -0.06965892868598386),\n ('enigma', -0.0646759555941065),\n ('dark_seer', -0.06442060017133769),\n ('rubick', -0.06398246830287489),\n ('bristleback', -0.06179116396118338),\n ('bane', -0.06064554940422525),\n ('abaddon', 0.060351441178542256),\n ('nevermore', 0.05981792203416033),\n ('alchemist', 0.057199502388453394),\n ('obsidian_destroyer', -0.05369035237204483),\n ('r5_items', 0.05301878193392947),\n ('tusk', 0.05251038130482616),\n ('r3_items', 0.051659446717091315),\n ('legion_commander', -0.048759883195331505),\n ('ursa', 0.04791160054881437),\n ('leshrac', 0.04669602507453507),\n ('juggernaut', 0.04541985505927439),\n ('d2_items', -0.045147491555506354),\n ('radiant_first_ward_time', -0.044818134258481176),\n ('bounty_hunter', 0.0443913996301533),\n ('riki', 0.04408707871899314),\n ('dire_tpscroll_count', 0.04316200829066251),\n ('d4_items', -0.04305576178560327),\n ('d3_items', -0.043053281310406),\n ('broodmother', -0.04265010973610751),\n ('faceless_void', -0.04250936300218736),\n ('radiant_tpscroll_count', -0.04208702312265599),\n ('start_time', 0.04093109264914924),\n ('d5_items', -0.04051159502472433),\n ('lycan', 0.04042333310885399),\n ('r1_items', 0.040362933468199275),\n ('r4_items', 0.04025419069745537),\n ('phoenix', 0.03935583980996786),\n ('r5_level', 0.0390329190408569),\n ('undying', 0.03867249477865439),\n ('razor', -0.03845622776129467),\n ('enchantress', -0.03719447200402769),\n ('radiant_courier_time', -0.0367771878428468),\n ('antimage', 0.036705601349138306),\n ('radiant_boots_count', 0.03616196052067405),\n ('d4_level', -0.03567123381939467),\n ('magnataur', -0.0338337364701189),\n ('radiant_flying_courier_time', 0.03322095360885379),\n ('d1_items', -0.032771198686780384),\n ('disruptor', -0.03250062174449274),\n ('venomancer', 0.030954861492832334),\n ('r2_items', 0.030799080818076797),\n ('r2_level', 0.030241192772280896),\n ('dire_first_ward_time', 0.02999871161667358),\n ('medusa', 0.02976233230578984),\n ('furion', -0.02958798794344458),\n ('dragon_knight', 0.029347409042086187),\n ('wisp', 0.028949174044289004),\n ('beastmaster', 0.028351770305992223),\n ('meepo', 0.027989387828335304),\n ('first_blood_player2', -0.02747344603542205),\n ('crystal_maiden', 0.02701805624740316),\n ('d5_deaths', 0.026711481058339096),\n ('shadow_demon', -0.02660337729730416),\n ('life_stealer', -0.02657684099941866),\n ('shredder', -0.02643258353548512),\n ('r5_deaths', -0.026291185962037857),\n ('r4_deaths', -0.026127034636418196),\n ('phantom_lancer', -0.02447460091734795),\n ('lich', 0.024194983512133804),\n ('d1_level', -0.023748369851016533),\n ('death_prophet', -0.023547923716060085),\n ('d4_deaths', 0.023237145761364198),\n ('troll_warlord', -0.02301804331363184),\n ('tinker', -0.022998710065225615),\n ('slark', 0.02194675274607991),\n ('necrolyte', 0.021880513262366015),\n ('r4_level', 0.021734229728616373),\n ('r3_deaths', -0.021567169399232356),\n ('r2_deaths', -0.021275226152986933),\n ('d1_deaths', 0.021042008736830303),\n ('dire_courier_time', 0.020713275014047492),\n ('d5_level', -0.020679770188080787),\n ('drow_ranger', 0.020675176098064105),\n ('sniper', -0.02058648016839362),\n ('r1_level', 0.020185098328406523),\n ('d2_level', -0.019993616151523515),\n ('witch_doctor', 0.01993357166842416),\n ('bloodseeker', -0.019913752830914847),\n ('weaver', -0.019458962700694724),\n ('rattletrap', 0.019411551748700212),\n ('visage', 0.0185172111341308),\n ('jakiro', -0.018297803875803768),\n ('r3_level', 0.01795450083157541),\n ('tiny', 0.017409829104191164),\n ('shadow_shaman', -0.017308425558595113),\n ('storm_spirit', -0.01712837136144836),\n ('silencer', -0.016386751799350497),\n ('r1_deaths', -0.016147872070882672),\n ('luna', 0.016071673783373264),\n ('d2_deaths', 0.0159668599792203),\n ('d3_level', -0.015592809406694125),\n ('huskar', 0.015092495340478799),\n ('chen', -0.014945289912594818),\n ('d3_deaths', 0.014803040221056583),\n ('elder_titan', 0.014617883436038356),\n ('dire_boots_count', -0.014404290133778233),\n ('naga_siren', -0.013113707536188426),\n ('treant', 0.013008709922071166),\n ('clinkz', -0.012143807053608804),\n ('dire_flying_courier_time', -0.011553623304331377),\n ('sven', 0.011535038818483992),\n ('vengefulspirit', 0.011187475570624867),\n ('dazzle', -0.010864919657785285),\n ('batrider', -0.010733950119634544),\n ('radiant_ward_observer_count', -0.010661755658665806),\n ('morphling', -0.010453965377873443),\n ('keeper_of_the_light', -0.010389883581759051),\n ('mirana', -0.010284476836066418),\n ('ancient_apparition', -0.01017986402717909),\n ('warlock', 0.010147858354471745),\n ('d3_kills', -0.009947185995193656),\n ('ogre_magi', -0.009900602522544029),\n ('templar_assassin', -0.009499841574200585),\n ('invoker', -0.009061266011406966),\n ('d5_kills', -0.009028297559787454),\n ('dire_bottle_time', 0.008911616083939153),\n ('nyx_assassin', 0.008243039871777434),\n ('gyrocopter', 0.008239270415146462),\n ('lone_druid', -0.007944285448103336),\n ('terrorblade', -0.007371291507875107),\n ('techies', -0.007298638029262403),\n ('sand_king', -0.0071179430271052875),\n ('night_stalker', 0.007107867899871229),\n ('centaur', 0.006885395749451367),\n ('r1_kills', 0.00683320067437166),\n ('dire_ward_sentry_count', 0.006715704582735517),\n ('tidehunter', -0.006510343197685811),\n ('first_blood_team', 0.00609017698797234),\n ('radiant_bottle_time', -0.005342136811589326),\n ('d4_kills', 0.005174834971545382),\n ('pudge', 0.004743553826336777),\n ('ember_spirit', 0.004446595544884112),\n ('winter_wyvern', -0.003910009744637823),\n ('phantom_assassin', -0.0036513942824970727),\n ('radiant_ward_sentry_count', 0.0035564483846279725),\n ('first_blood_player1', -0.002125036022865416),\n ('kunkka', -0.0020417385050358005),\n ('first_blood_time', 0.0019162439929505345),\n ('r3_kills', -0.0018200777327480756),\n ('brewmaster', 0.001662109221898986),\n ('chaos_knight', -0.0014043820867999392),\n ('d1_kills', -0.0011308359310144337),\n ('pugna', 0.0010947578626756597),\n ('r5_kills', -0.0006272102999627181),\n ('dire_ward_observer_count', 0.0006229262296835661),\n ('d2_kills', -0.00038725449685761697),\n ('r4_kills', -0.00011645986251377617),\n ('r2_kills', -5.262173304536418e-05),\n ('earth_spirit', 0.0),\n ('abyssal_underlord', 0.0),\n ('oracle', 0.0)]"
     },
     "metadata": {},
     "output_type": "execute_result",
     "execution_count": 25
    }
   ],
   "source": [
    "# List of weights of features\n",
    "sorted(\n",
    "    zip(list(X_0.columns), clf.coef_[0]),\n",
    "    key=lambda kv: abs(kv[1]),\n",
    "    reverse=True)"
   ],
   "metadata": {
    "collapsed": false,
    "pycharm": {
     "name": "#%%\n",
     "is_executing": false
    }
   }
  },
  {
   "cell_type": "code",
   "execution_count": 26,
   "outputs": [],
   "source": [
    "# extract test data\n",
    "features_test = pd.read_csv(features_test_csv, index_col=\"match_id\")\n",
    "X_test, y_test, X_0_test = preprocessing(features_test)"
   ],
   "metadata": {
    "collapsed": false,
    "pycharm": {
     "name": "#%%\n",
     "is_executing": false
    }
   }
  },
  {
   "cell_type": "code",
   "execution_count": 28,
   "outputs": [],
   "source": [
    "# predict test data\n",
    "y_pred = clf.predict_proba(X_test)[:,1]\n",
    "ans = pd.DataFrame(index=features_test.index)\n",
    "ans['radiant_win'] = y_pred\n",
    "\n",
    "ans.to_csv(ans_csv)"
   ],
   "metadata": {
    "collapsed": false,
    "pycharm": {
     "name": "#%%\n",
     "is_executing": false
    }
   }
  },
  {
   "cell_type": "code",
   "execution_count": 29,
   "outputs": [
    {
     "name": "stdout",
     "text": [
      "0.009727336037437829 0.9943236293463338\n"
     ],
     "output_type": "stream"
    },
    {
     "data": {
      "text/plain": "<Figure size 432x288 with 1 Axes>",
      "image/png": "[encoded data removed]"
     },
     "metadata": {},
     "output_type": "display_data"
    }
   ],
   "source": [
    "import seaborn as sns\n",
    "\n",
    "# predictions distribution\n",
    "print(min(y_pred), max(y_pred))\n",
    "sns.set(color_codes=True)\n",
    "ax = sns.distplot(y_pred)"
   ],
   "metadata": {
    "collapsed": false,
    "pycharm": {
     "name": "#%%\n",
     "is_executing": false
    }
   }
  }
 ],
 "metadata": {
  "kernelspec": {
   "display_name": "Python 3",
   "language": "python",
   "name": "python3"
  },
  "language_info": {
   "codemirror_mode": {
    "name": "ipython",
    "version": 2
   },
   "file_extension": ".py",
   "mimetype": "text/x-python",
   "name": "python",
   "nbconvert_exporter": "python",
   "pygments_lexer": "ipython2",
   "version": "2.7.6"
  },
  "pycharm": {
   "stem_cell": {
    "cell_type": "raw",
    "source": [],
    "metadata": {
     "collapsed": false
    }
   }
  }
 },
 "nbformat": 4,
 "nbformat_minor": 0
}