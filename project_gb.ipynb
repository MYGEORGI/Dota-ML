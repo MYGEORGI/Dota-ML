{
 "cells": [
  {
   "cell_type": "code",
   "execution_count": 216,
   "outputs": [],
   "source": [
    "import numpy as np\n",
    "import pandas as pd\n",
    "from sklearn.ensemble import GradientBoostingClassifier\n",
    "from sklearn.metrics import roc_auc_score\n",
    "from sklearn.model_selection import KFold\n",
    "\n",
    "from datetime import datetime"
   ],
   "metadata": {
    "collapsed": false,
    "pycharm": {
     "name": "#%%\n",
     "is_executing": false
    }
   }
  },
  {
   "cell_type": "code",
   "execution_count": 217,
   "outputs": [],
   "source": [
    "na_time = 10000\n",
    "kfold_splits = 5\n",
    "ns_estimators = [5]\n",
    "\n",
    "# files\n",
    "features_csv = \"path/to/features.csv\""
   ],
   "metadata": {
    "collapsed": false,
    "pycharm": {
     "name": "#%%\n",
     "is_executing": false
    }
   }
  },
  {
   "cell_type": "code",
   "execution_count": 218,
   "outputs": [],
   "source": [
    "features_0 = pd.read_csv(features_csv, index_col=\"match_id\")\n",
    "features = features_0\n",
    "y = features[\"radiant_win\"]"
   ],
   "metadata": {
    "collapsed": false,
    "pycharm": {
     "name": "#%%\n",
     "is_executing": false
    }
   }
  },
  {
   "cell_type": "code",
   "execution_count": 219,
   "outputs": [],
   "source": [
    "# drop \"future\" columns\n",
    "X = features.drop(columns=features.columns[-6:])\n",
    "\n",
    "# find and fill gaps\n",
    "counts = X.count()\n",
    "total = len(X.index)\n",
    "with_gaps = []\n",
    "for i, count in enumerate(counts):\n",
    "    if count < total:\n",
    "        with_gaps.append(X.columns[i])\n",
    "        \n",
    "X[with_gaps] = X[with_gaps].fillna(na_time)"
   ],
   "metadata": {
    "collapsed": false,
    "pycharm": {
     "name": "#%%\n",
     "is_executing": false
    }
   }
  },
  {
   "cell_type": "code",
   "execution_count": 220,
   "outputs": [],
   "source": [
    "X = X.values\n",
    "y = y.values"
   ],
   "metadata": {
    "collapsed": false,
    "pycharm": {
     "name": "#%%\n",
     "is_executing": false
    }
   }
  },
  {
   "cell_type": "code",
   "execution_count": 221,
   "outputs": [],
   "source": [
    "kf = KFold(n_splits=kfold_splits, shuffle=True)\n",
    "qualities = {}\n",
    "times = {}\n",
    "pred_times = {}\n",
    "\n",
    "# for different n_estimators measure time and quality\n",
    "for n_estimators in ns_estimators:\n",
    "    quality = []\n",
    "    pred_time = []\n",
    "    start_time = datetime.now()\n",
    "    for train_index, test_index in kf.split(X):\n",
    "        X_train, X_test = X[train_index], X[test_index]\n",
    "        y_train, y_test = y[train_index], y[test_index]\n",
    "        clf = GradientBoostingClassifier(n_estimators=n_estimators)\n",
    "        clf.fit(X_train, y_train)\n",
    "        pred_start_time = datetime.now()\n",
    "        y_pred = clf.predict_proba(X_test)[:,1]\n",
    "        pred_time.append(datetime.now() - pred_start_time)\n",
    "        quality.append(roc_auc_score(y_test, y_pred))\n",
    "    pred_times[n_estimators] = np.mean(pred_time)\n",
    "    times[n_estimators] = datetime.now() - start_time\n",
    "    qualities[n_estimators] = np.mean(quality)"
   ],
   "metadata": {
    "collapsed": false,
    "pycharm": {
     "name": "#%%\n",
     "is_executing": false
    }
   }
  },
  {
   "cell_type": "code",
   "execution_count": 222,
   "outputs": [
    {
     "name": "stdout",
     "text": [
      "qualities:\n{5: 0.6404071763133969}\n\nlearn_times:\n21 secs\n\npred_times:\n10269 microsecs\n"
     ],
     "output_type": "stream"
    }
   ],
   "source": [
    "print(\"qualities:\")\n",
    "print(qualities)\n",
    "\n",
    "print(\"\\nlearn_times:\")\n",
    "for time in times.values():\n",
    "    print(time.seconds, \"secs\")\n",
    "\n",
    "print(\"\\npred_times:\")\n",
    "for time in pred_times.values():\n",
    "    print(time.microseconds, \"microsecs\")\n"
   ],
   "metadata": {
    "collapsed": false,
    "pycharm": {
     "name": "#%%\n",
     "is_executing": false
    }
   }
  }
 ],
 "metadata": {
  "kernelspec": {
   "display_name": "Python 3",
   "language": "python",
   "name": "python3"
  },
  "language_info": {
   "codemirror_mode": {
    "name": "ipython",
    "version": 2
   },
   "file_extension": ".py",
   "mimetype": "text/x-python",
   "name": "python",
   "nbconvert_exporter": "python",
   "pygments_lexer": "ipython2",
   "version": "2.7.6"
  },
  "pycharm": {
   "stem_cell": {
    "cell_type": "raw",
    "source": [],
    "metadata": {
     "collapsed": false
    }
   }
  }
 },
 "nbformat": 4,
 "nbformat_minor": 0
}